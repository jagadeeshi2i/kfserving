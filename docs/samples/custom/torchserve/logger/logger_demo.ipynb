{
 "cells": [
  {
   "cell_type": "markdown",
   "metadata": {},
   "source": [
    "# KfServing Logger demo"
   ]
  },
  {
   "cell_type": "markdown",
   "metadata": {},
   "source": [
    "We create a message dumper KNaive service to print out CloudEvents it receives:"
   ]
  },
  {
   "cell_type": "code",
   "execution_count": 1,
   "metadata": {},
   "outputs": [
    {
     "name": "stdout",
     "output_type": "stream",
     "text": [
      "\u001b[94mapiVersion\u001b[39;49;00m: serving.knative.dev/v1\r\n",
      "\u001b[94mkind\u001b[39;49;00m: Service\r\n",
      "\u001b[94mmetadata\u001b[39;49;00m:\r\n",
      "  \u001b[94mname\u001b[39;49;00m: message-dumper\r\n",
      "\u001b[94mspec\u001b[39;49;00m:\r\n",
      "  \u001b[94mtemplate\u001b[39;49;00m:\r\n",
      "    \u001b[94mspec\u001b[39;49;00m:\r\n",
      "      \u001b[94mcontainers\u001b[39;49;00m:\r\n",
      "      - \u001b[94mimage\u001b[39;49;00m: gcr.io/knative-releases/knative.dev/eventing-contrib/cmd/event_display\r\n"
     ]
    }
   ],
   "source": [
    "!pygmentize message-dumper.yaml"
   ]
  },
  {
   "cell_type": "code",
   "execution_count": 53,
   "metadata": {
    "scrolled": true
   },
   "outputs": [
    {
     "name": "stdout",
     "output_type": "stream",
     "text": [
      "service.serving.knative.dev/message-dumper created\r\n"
     ]
    }
   ],
   "source": [
    "!kubectl apply -f message-dumper.yaml -n default"
   ]
  },
  {
   "cell_type": "markdown",
   "metadata": {},
   "source": [
    "Create a Torchserve model with associated logger to push events to the message logger URL"
   ]
  },
  {
   "cell_type": "code",
   "execution_count": 26,
   "metadata": {
    "scrolled": true
   },
   "outputs": [
    {
     "name": "stdout",
     "output_type": "stream",
     "text": [
      "\u001b[94mapiVersion\u001b[39;49;00m: \u001b[33m\"\u001b[39;49;00m\u001b[33mserving.kubeflow.org/v1beta1\u001b[39;49;00m\u001b[33m\"\u001b[39;49;00m\r\n",
      "\u001b[94mkind\u001b[39;49;00m: \u001b[33m\"\u001b[39;49;00m\u001b[33mInferenceService\u001b[39;49;00m\u001b[33m\"\u001b[39;49;00m\r\n",
      "\u001b[94mmetadata\u001b[39;49;00m:\r\n",
      "  \u001b[94mname\u001b[39;49;00m: \u001b[33m\"\u001b[39;49;00m\u001b[33mtorchserve-custom\u001b[39;49;00m\u001b[33m\"\u001b[39;49;00m\r\n",
      "\u001b[94mspec\u001b[39;49;00m:\r\n",
      "  \u001b[94mpredictor\u001b[39;49;00m:\r\n",
      "    \u001b[94mminReplicas\u001b[39;49;00m: 1      \r\n",
      "    \u001b[94mlogger\u001b[39;49;00m:\r\n",
      "      \u001b[94murl\u001b[39;49;00m: http://message-dumper.default/\r\n",
      "      \u001b[94mport\u001b[39;49;00m: 8091\r\n",
      "      \u001b[94mcomponent-port\u001b[39;49;00m: 8083\r\n",
      "      \u001b[94mmode\u001b[39;49;00m: all\r\n",
      "    \u001b[94mcontainers\u001b[39;49;00m:\r\n",
      "      - \u001b[94mimage\u001b[39;49;00m: jagadeeshj/ts_logger:latest\r\n",
      "        \u001b[94mname\u001b[39;49;00m: torchserve-container\r\n"
     ]
    }
   ],
   "source": [
    "!pygmentize torchserve-logger.yaml"
   ]
  },
  {
   "cell_type": "code",
   "execution_count": 28,
   "metadata": {
    "scrolled": true
   },
   "outputs": [
    {
     "name": "stdout",
     "output_type": "stream",
     "text": [
      "error: error validating \"torchserve-logger.yaml\": error validating data: [ValidationError(InferenceService.spec.predictor.logger): unknown field \"component-port\" in org.kubeflow.serving.v1beta1.InferenceService.spec.predictor.logger, ValidationError(InferenceService.spec.predictor.logger): unknown field \"port\" in org.kubeflow.serving.v1beta1.InferenceService.spec.predictor.logger]; if you choose to ignore these errors, turn validation off with --validate=false\r\n"
     ]
    }
   ],
   "source": [
    "!kubectl apply -f torchserve-logger.yaml -n kfserving-test"
   ]
  },
  {
   "cell_type": "code",
   "execution_count": 18,
   "metadata": {},
   "outputs": [
    {
     "name": "stdout",
     "output_type": "stream",
     "text": [
      "a881f5a8c676a41edbccdb0a394a80d6-2069247558.us-west-2.elb.amazonaws.com\n"
     ]
    }
   ],
   "source": [
    "CLUSTER_IPS=!(kubectl -n istio-system get service istio-ingressgateway -o jsonpath='{.status.loadBalancer.ingress[0].hostname}')\n",
    "CLUSTER_IP=CLUSTER_IPS[0]\n",
    "print(CLUSTER_IP)"
   ]
  },
  {
   "cell_type": "code",
   "execution_count": 17,
   "metadata": {},
   "outputs": [
    {
     "name": "stdout",
     "output_type": "stream",
     "text": [
      "torchserve-custom.kfserving-test.a881f5a8c676a41edbccdb0a394a80d6-2069247558.us-west-2.elb.amazonaws.com\n"
     ]
    }
   ],
   "source": [
    "SERVICE_HOSTNAMES=!(kubectl get inferenceservice torchserve-custom -n kfserving-test -o jsonpath='{.status.url}' | cut -d \"/\" -f 3)\n",
    "SERVICE_HOSTNAME=SERVICE_HOSTNAMES[0]\n",
    "print(SERVICE_HOSTNAME)"
   ]
  },
  {
   "cell_type": "code",
   "execution_count": 6,
   "metadata": {
    "scrolled": true
   },
   "outputs": [
    {
     "name": "stdout",
     "output_type": "stream",
     "text": [
      "--2020-11-25 14:07:23--  https://raw.githubusercontent.com/pytorch/serve/master/examples/image_classifier/mnist/test_data/1.png\n",
      "Resolving raw.githubusercontent.com (raw.githubusercontent.com)... 199.232.252.133\n",
      "Connecting to raw.githubusercontent.com (raw.githubusercontent.com)|199.232.252.133|:443... connected.\n",
      "HTTP request sent, awaiting response... 200 OK\n",
      "Length: 167 [image/png]\n",
      "Saving to: ‘1.png’\n",
      "\n",
      "1.png               100%[===================>]     167  --.-KB/s    in 0s      \n",
      "\n",
      "2020-11-25 14:07:24 (5.86 MB/s) - ‘1.png’ saved [167/167]\n",
      "\n"
     ]
    }
   ],
   "source": [
    "!wget https://raw.githubusercontent.com/pytorch/serve/master/examples/image_classifier/mnist/test_data/1.png"
   ]
  },
  {
   "cell_type": "code",
   "execution_count": 19,
   "metadata": {},
   "outputs": [
    {
     "name": "stdout",
     "output_type": "stream",
     "text": [
      "torchserve-custom.kfserving-test.a881f5a8c676a41edbccdb0a394a80d6-2069247558.us-west-2.elb.amazonaws.com\r\n"
     ]
    }
   ],
   "source": [
    "!echo $SERVICE_HOSTNAME"
   ]
  },
  {
   "cell_type": "code",
   "execution_count": 20,
   "metadata": {
    "scrolled": true
   },
   "outputs": [
    {
     "name": "stdout",
     "output_type": "stream",
     "text": [
      "*   Trying 52.37.128.207...\n",
      "* Connected to a881f5a8c676a41edbccdb0a394a80d6-2069247558.us-west-2.elb.amazonaws.com (52.37.128.207) port 80 (#0)\n",
      "> PUT /predictions/mnist HTTP/1.1\n",
      "> Host: torchserve-custom.kfserving-test.a881f5a8c676a41edbccdb0a394a80d6-2069247558.us-west-2.elb.amazonaws.com\n",
      "> User-Agent: curl/7.47.0\n",
      "> Accept: */*\n",
      "> Content-Length: 167\n",
      "> Expect: 100-continue\n",
      "> \n",
      "< HTTP/1.1 100 Continue\n",
      "* We are completely uploaded and fine\n",
      "< HTTP/1.1 200 OK\n",
      "< content-length: 1\n",
      "< content-type: text/plain; charset=utf-8\n",
      "< date: Wed, 25 Nov 2020 08:47:23 GMT\n",
      "< x-envoy-upstream-service-time: 5097\n",
      "< server: istio-envoy\n",
      "< \n",
      "* Connection #0 to host a881f5a8c676a41edbccdb0a394a80d6-2069247558.us-west-2.elb.amazonaws.com left intact\n",
      "1"
     ]
    }
   ],
   "source": [
    "!curl -v -H \"Host: $SERVICE_HOSTNAME\" http://$CLUSTER_IP/predictions/mnist -T 1.png"
   ]
  },
  {
   "cell_type": "code",
   "execution_count": 22,
   "metadata": {
    "scrolled": true
   },
   "outputs": [
    {
     "name": "stdout",
     "output_type": "stream",
     "text": [
      "☁️  cloudevents.Event\r\n",
      "Validation: valid\r\n",
      "Context Attributes,\r\n",
      "  specversion: 1.0\r\n",
      "  type: org.kubeflow.serving.inference.request\r\n",
      "  source: http://localhost:8081/\r\n",
      "  id: d89f208a-ce47-443b-b2c2-de8f6917d6be\r\n",
      "  time: 2020-11-25T08:47:18.251273118Z\r\n",
      "  datacontenttype: application/json\r\n",
      "Extensions,\r\n",
      "  endpoint: \r\n",
      "  inferenceservicename: \r\n",
      "  namespace: kfserving-test\r\n",
      "  traceparent: 00-8e32641b959177c0d17ec23338e1310c-5f6d4019418c5c29-00\r\n",
      "Data,\r\n",
      "  �PNG\r",
      "\r\n",
      "\u001a\r\n",
      "\u0000\u0000\u0000\r",
      "IHDR\u0000\u0000\u0000\u001c",
      "\u0000\u0000\u0000\u001c",
      "\b\u0000\u0000\u0000\u0000Wf�H\u0000\u0000\u0000nIDATx�c`\u0018�`��$�r�o�n�)��\u0006�$��߻��e��q�'y\u0018��G?<�rpJ����[2\u0017�N��\u001ap����?�%=����-���\u0004\u001aHj���_\u0019�l����%U�I\r\n",
      "����)I-\u0000\u0000�J4ԩ��\b\u0000\u0000\u0000\u0000IEND�B`�\r\n",
      "☁️  cloudevents.Event\r\n",
      "Validation: valid\r\n",
      "Context Attributes,\r\n",
      "  specversion: 1.0\r\n",
      "  type: org.kubeflow.serving.inference.response\r\n",
      "  source: http://localhost:8081/\r\n",
      "  id: d89f208a-ce47-443b-b2c2-de8f6917d6be\r\n",
      "  time: 2020-11-25T08:47:23.347753905Z\r\n",
      "  datacontenttype: application/json\r\n",
      "Extensions,\r\n",
      "  endpoint: \r\n",
      "  inferenceservicename: \r\n",
      "  namespace: kfserving-test\r\n",
      "  traceparent: 00-2ee61b93151cd79fffc7bba52c4b56e8-4dd52961d24b811c-00\r\n",
      "Data,\r\n",
      "  1\r\n"
     ]
    }
   ],
   "source": [
    "!kubectl logs $(kubectl get pod -l serving.knative.dev/configuration=message-dumper -n default -o jsonpath='{.items[0].metadata.name}') -c user-container "
   ]
  },
  {
   "cell_type": "code",
   "execution_count": 13,
   "metadata": {
    "scrolled": false
   },
   "outputs": [
    {
     "name": "stdout",
     "output_type": "stream",
     "text": [
      "inferenceservice.serving.kubeflow.org \"sklearn-iris\" deleted\r\n"
     ]
    }
   ],
   "source": [
    "!kubectl delete -f torchserve-logger.yaml"
   ]
  },
  {
   "cell_type": "code",
   "execution_count": 14,
   "metadata": {},
   "outputs": [
    {
     "name": "stdout",
     "output_type": "stream",
     "text": [
      "service.serving.knative.dev \"message-dumper\" deleted\r\n"
     ]
    }
   ],
   "source": [
    "!kubectl delete -f message-dumper.yaml"
   ]
  },
  {
   "cell_type": "code",
   "execution_count": null,
   "metadata": {},
   "outputs": [],
   "source": []
  }
 ],
 "metadata": {
  "kernelspec": {
   "display_name": "Python 3",
   "language": "python",
   "name": "python3"
  },
  "language_info": {
   "codemirror_mode": {
    "name": "ipython",
    "version": 3
   },
   "file_extension": ".py",
   "mimetype": "text/x-python",
   "name": "python",
   "nbconvert_exporter": "python",
   "pygments_lexer": "ipython3",
   "version": "3.8.5"
  }
 },
 "nbformat": 4,
 "nbformat_minor": 2
}
