{
 "cells": [
  {
   "cell_type": "code",
   "execution_count": 1,
   "metadata": {},
   "outputs": [
    {
     "name": "stdout",
     "output_type": "stream",
     "text": [
      "config\t     pvc.yaml\t pv.yaml\t\t     torchserve-pv.yaml\r\n",
      "model-store  pvpod.yaml  torchserve-predictor.ipynb  ts.yaml\r\n"
     ]
    }
   ],
   "source": [
    "!ls"
   ]
  },
  {
   "cell_type": "code",
   "execution_count": 137,
   "metadata": {},
   "outputs": [
    {
     "name": "stdout",
     "output_type": "stream",
     "text": [
      "persistentvolume/model-pv-volume unchanged\r\n"
     ]
    }
   ],
   "source": [
    "!kubectl apply -f pv.yaml -n kfserving-test"
   ]
  },
  {
   "cell_type": "code",
   "execution_count": 138,
   "metadata": {},
   "outputs": [
    {
     "name": "stdout",
     "output_type": "stream",
     "text": [
      "persistentvolumeclaim/model-pv-claim unchanged\r\n"
     ]
    }
   ],
   "source": [
    "!kubectl apply -f pvc.yaml -n kfserving-test"
   ]
  },
  {
   "cell_type": "code",
   "execution_count": 139,
   "metadata": {
    "scrolled": true
   },
   "outputs": [
    {
     "name": "stdout",
     "output_type": "stream",
     "text": [
      "pod/model-store-pod created\r\n"
     ]
    }
   ],
   "source": [
    "!kubectl apply -f pvpod.yaml -n kfserving-test"
   ]
  },
  {
   "cell_type": "code",
   "execution_count": 2,
   "metadata": {
    "scrolled": true
   },
   "outputs": [
    {
     "name": "stdout",
     "output_type": "stream",
     "text": [
      "mkdir: cannot create directory '/pv/model-store/': File exists\n",
      "command terminated with exit code 1\n",
      "mkdir: cannot create directory '/pv/config/': File exists\n",
      "command terminated with exit code 1\n"
     ]
    }
   ],
   "source": [
    "!kubectl exec -t model-store-pod -c model-store -n kfserving-test -- mkdir /pv/model-store/\n",
    "!kubectl exec -t model-store-pod -c model-store -n kfserving-test -- mkdir /pv/config/"
   ]
  },
  {
   "cell_type": "code",
   "execution_count": 3,
   "metadata": {},
   "outputs": [],
   "source": [
    "!kubectl cp model-store model-store-pod:/pv/ -c model-store -n kfserving-test"
   ]
  },
  {
   "cell_type": "code",
   "execution_count": 7,
   "metadata": {},
   "outputs": [],
   "source": [
    "!kubectl cp config/config.properties model-store-pod:/pv/config/config.properties -c model-store -n kfserving-test"
   ]
  },
  {
   "cell_type": "code",
   "execution_count": 8,
   "metadata": {
    "scrolled": false
   },
   "outputs": [
    {
     "name": "stdout",
     "output_type": "stream",
     "text": [
      "/pv/model-store/:\r\n",
      "total 8864\r\n",
      "-rw-rw-r-- 1 1000 1000 4463882 Sep 14 15:01 mnist.mar\r\n",
      "-rw-rw-r-- 1 1000 1000 4609382 Sep 14 15:01 squeezenet1_1.mar\r\n"
     ]
    }
   ],
   "source": [
    "!kubectl exec -it model-store-pod -n kfserving-test -- ls -lR /pv/model-store/"
   ]
  },
  {
   "cell_type": "code",
   "execution_count": 9,
   "metadata": {
    "scrolled": false
   },
   "outputs": [
    {
     "name": "stdout",
     "output_type": "stream",
     "text": [
      "inference_address=http://0.0.0.0:8080\r\n",
      "management_address=http://0.0.0.0:8081\r\n",
      "NUM_WORKERS=1\r\n",
      "number_of_gpu=1\r\n",
      "number_of_netty_threads=32\r\n",
      "job_queue_size=1000\r\n",
      "model_store=/home/model-server/shared/model-store\r\n",
      "model_snapshot={\"name\":\"startup.cfg\",\"modelCount\":2,\"models\":{\"squeezenet1_1\":{\"1.0\":{\"defaultVersion\":true,\"marName\":\"squeezenet1_1.mar\",\"minWorkers\":3,\"maxWorkers\":3,\"batchSize\":1,\"maxBatchDelay\":100,\"responseTimeout\":120}},\"mnist\":{\"1.0\":{\"defaultVersion\":true,\"marName\":\"mnist.mar\",\"minWorkers\":5,\"maxWorkers\":5,\"batchSize\":1,\"maxBatchDelay\":200,\"responseTimeout\":60}}}}\r\n"
     ]
    }
   ],
   "source": [
    "!kubectl exec -it model-store-pod -n kfserving-test -- cat /pv/config/config.properties"
   ]
  },
  {
   "cell_type": "code",
   "execution_count": 10,
   "metadata": {
    "scrolled": true
   },
   "outputs": [
    {
     "name": "stdout",
     "output_type": "stream",
     "text": [
      "pod \"model-store-pod\" deleted\r\n"
     ]
    }
   ],
   "source": [
    "!kubectl delete -f pvpod.yaml -n kfserving-test"
   ]
  },
  {
   "cell_type": "code",
   "execution_count": 11,
   "metadata": {
    "scrolled": true
   },
   "outputs": [
    {
     "name": "stdout",
     "output_type": "stream",
     "text": [
      "apiVersion: serving.kubeflow.org/v1alpha2\r\n",
      "kind: InferenceService\r\n",
      "metadata:\r\n",
      "  labels:\r\n",
      "    controller-tools.k8s.io: \"1.0\"\r\n",
      "  name: ts-sample\r\n",
      "spec:\r\n",
      "  default:\r\n",
      "    predictor:\r\n",
      "      torchserve:\r\n",
      "        storageUri: \"pvc://model-pv-claim\"\r\n",
      "        resources:\r\n",
      "          limits:\r\n",
      "            nvidia.com/gpu: 1"
     ]
    }
   ],
   "source": [
    "!cat torchserve-pv.yaml"
   ]
  },
  {
   "cell_type": "code",
   "execution_count": 13,
   "metadata": {
    "scrolled": true
   },
   "outputs": [
    {
     "name": "stdout",
     "output_type": "stream",
     "text": [
      "inferenceservice.serving.kubeflow.org/ts-sample created\r\n"
     ]
    }
   ],
   "source": [
    "!kubectl apply -f torchserve-pv.yaml -n kfserving-test "
   ]
  },
  {
   "cell_type": "code",
   "execution_count": 14,
   "metadata": {
    "scrolled": true
   },
   "outputs": [
    {
     "name": "stdout",
     "output_type": "stream",
     "text": [
      "inferenceservice.serving.kubeflow.org \"ts-sample\" deleted\r\n"
     ]
    }
   ],
   "source": [
    "!kubectl delete -f torchserve-pv.yaml -n kfserving-test"
   ]
  },
  {
   "cell_type": "code",
   "execution_count": null,
   "metadata": {},
   "outputs": [],
   "source": []
  }
 ],
 "metadata": {
  "kernelspec": {
   "display_name": "Python 3",
   "language": "python",
   "name": "python3"
  },
  "language_info": {
   "codemirror_mode": {
    "name": "ipython",
    "version": 3
   },
   "file_extension": ".py",
   "mimetype": "text/x-python",
   "name": "python",
   "nbconvert_exporter": "python",
   "pygments_lexer": "ipython3",
   "version": "3.5.2"
  }
 },
 "nbformat": 4,
 "nbformat_minor": 2
}
