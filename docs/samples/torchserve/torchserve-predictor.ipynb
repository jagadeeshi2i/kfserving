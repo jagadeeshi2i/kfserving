{
 "cells": [
  {
   "cell_type": "code",
   "execution_count": 12,
   "metadata": {},
   "outputs": [
    {
     "name": "stdout",
     "output_type": "stream",
     "text": [
      "BERTSeqClassification  pvpod.yaml\t\t   torchserve-pv.yaml\r\n",
      "config\t\t       pv.yaml\t\t\t   torchserve-s3.yml\r\n",
      "model-conv.ipynb       s3-secret.yaml\t\t   ts_test.ipynb\r\n",
      "model-store\t       torchserve-basic.yaml\t   ts.yaml\r\n",
      "pvc.yaml\t       torchserve-predictor.ipynb\r\n"
     ]
    }
   ],
   "source": [
    "!ls"
   ]
  },
  {
   "cell_type": "code",
   "execution_count": 13,
   "metadata": {},
   "outputs": [
    {
     "name": "stdout",
     "output_type": "stream",
     "text": [
      "persistentvolume/model-pv-volume unchanged\r\n"
     ]
    }
   ],
   "source": [
    "!kubectl apply -f pv.yaml -n kfserving-test"
   ]
  },
  {
   "cell_type": "code",
   "execution_count": 16,
   "metadata": {},
   "outputs": [
    {
     "name": "stdout",
     "output_type": "stream",
     "text": [
      "persistentvolumeclaim/model-pv-claim created\r\n"
     ]
    }
   ],
   "source": [
    "!kubectl apply -f pvc.yaml -n kfserving-test"
   ]
  },
  {
   "cell_type": "code",
   "execution_count": 90,
   "metadata": {
    "scrolled": true
   },
   "outputs": [
    {
     "name": "stdout",
     "output_type": "stream",
     "text": [
      "pod/model-store-pod created\r\n"
     ]
    }
   ],
   "source": [
    "!kubectl apply -f pvpod.yaml -n kfserving-test"
   ]
  },
  {
   "cell_type": "code",
   "execution_count": 54,
   "metadata": {
    "scrolled": true
   },
   "outputs": [
    {
     "name": "stdout",
     "output_type": "stream",
     "text": [
      "mkdir: cannot create directory '/pv/model-store/': File exists\n",
      "command terminated with exit code 1\n",
      "mkdir: cannot create directory '/pv/config/': File exists\n",
      "command terminated with exit code 1\n"
     ]
    }
   ],
   "source": [
    "!kubectl exec -t model-store-pod -c model-store -n kfserving-test -- mkdir /pv/model-store/\n",
    "!kubectl exec -t model-store-pod -c model-store -n kfserving-test -- mkdir /pv/config/"
   ]
  },
  {
   "cell_type": "code",
   "execution_count": 91,
   "metadata": {},
   "outputs": [],
   "source": [
    "!kubectl cp model-store model-store-pod:/pv/ -c model-store -n kfserving-test"
   ]
  },
  {
   "cell_type": "code",
   "execution_count": 56,
   "metadata": {},
   "outputs": [],
   "source": [
    "!kubectl cp model-store/properties.json model-store-pod:/pv/model-store/properties.json -c model-store -n kfserving-test"
   ]
  },
  {
   "cell_type": "code",
   "execution_count": 151,
   "metadata": {},
   "outputs": [],
   "source": [
    "#!kubectl exec -it model-store-pod -n kfserving-test -- cat /pv/model-store/mnist/mnist_handler.py"
   ]
  },
  {
   "cell_type": "code",
   "execution_count": 61,
   "metadata": {
    "scrolled": false
   },
   "outputs": [
    {
     "name": "stdout",
     "output_type": "stream",
     "text": [
      "Error from server (NotFound): pods \"model-store-pod\" not found\r\n"
     ]
    }
   ],
   "source": [
    "!kubectl exec -it model-store-pod -n kfserving-test -- ls -lR /pv/model-store/"
   ]
  },
  {
   "cell_type": "code",
   "execution_count": 74,
   "metadata": {
    "scrolled": false
   },
   "outputs": [
    {
     "name": "stdout",
     "output_type": "stream",
     "text": [
      "inference_address=http://0.0.0.0:8080\r\n",
      "management_address=http://0.0.0.0:8081\r\n",
      "number_of_netty_threads=32\r\n",
      "job_queue_size=1000\r\n",
      "model_store=\"/home/model-server/shared/model-store\"\r\n",
      "model_snapshot={\"name\":\"startup.cfg\",\"modelCount\":\"1\",\"models\":{\"mnist\":{\"1.0\":{\"defaultVersion\":true,\"marName\":\"mnist.mar\",\"minWorkers\":\"1\",\"maxWorkers\":\"3\",\"batchSize\":\"1\",\"maxBatchDelay\":\"100\",\"responseTimeout\":\"120\"}}}}\r\n"
     ]
    }
   ],
   "source": [
    "!kubectl exec -it model-store-pod -n kfserving-test -- cat /pv/config/config.properties"
   ]
  },
  {
   "cell_type": "code",
   "execution_count": 92,
   "metadata": {
    "scrolled": true
   },
   "outputs": [
    {
     "name": "stdout",
     "output_type": "stream",
     "text": [
      "pod \"model-store-pod\" deleted\r\n"
     ]
    }
   ],
   "source": [
    "!kubectl delete -f pvpod.yaml -n kfserving-test"
   ]
  },
  {
   "cell_type": "code",
   "execution_count": 58,
   "metadata": {
    "scrolled": true
   },
   "outputs": [
    {
     "name": "stdout",
     "output_type": "stream",
     "text": [
      "pod/model-conv-pod created\r\n"
     ]
    }
   ],
   "source": [
    "!kubectl apply -f ts.yaml -n kfserving-test"
   ]
  },
  {
   "cell_type": "code",
   "execution_count": 62,
   "metadata": {
    "scrolled": false
   },
   "outputs": [
    {
     "name": "stdout",
     "output_type": "stream",
     "text": [
      "/home/model-server/shared/model-store/:\r\n",
      "total 4372\r\n",
      "drwxrwxrwx 2 root         root            4096 Sep 14 06:20 mnist\r\n",
      "-rw-r--r-- 1 model-server model-server 4465323 Sep 14 06:22 mnist.mar\r\n",
      "-rwxrwxrwx 1 model-server model-server     287 Sep 14 06:20 properties.json\r\n",
      "\r\n",
      "/home/model-server/shared/model-store/mnist:\r\n",
      "total 4700\r\n",
      "-rwxrwxrwx 1 model-server model-server     757 Sep 14 06:20 mnist.py\r\n",
      "-rwxrwxrwx 1 model-server model-server 4800893 Sep 14 06:20 mnist_cnn.pt\r\n",
      "-rwxrwxrwx 1 model-server model-server     693 Sep 14 06:20 mnist_handler.py\r\n"
     ]
    }
   ],
   "source": [
    "!kubectl exec -it model-conv-pod -n kfserving-test -- ls -lR /home/model-server/shared/model-store/"
   ]
  },
  {
   "cell_type": "code",
   "execution_count": 64,
   "metadata": {},
   "outputs": [
    {
     "name": "stdout",
     "output_type": "stream",
     "text": [
      "inference_address=http://0.0.0.0:8080\r\n",
      "management_address=http://0.0.0.0:8081\r\n",
      "number_of_netty_threads=32\r\n",
      "job_queue_size=1000\r\n",
      "model_store=\"/home/model-server/shared/model-store\"\r\n",
      "model_snapshot={\"name\":\"startup.cfg\",\"modelCount\":\"1\",\"models\":{\"mnist\":{\"1.0\":{\"defaultVersion\":true,\"marName\":\"mnist.mar\",\"minWorkers\":\"1\",\"maxWorkers\":\"3\",\"batchSize\":\"1\",\"maxBatchDelay\":\"100\",\"responseTimeout\":\"120\"}}}}\r\n"
     ]
    }
   ],
   "source": [
    "!kubectl exec -it model-conv-pod -n kfserving-test -- cat /home/model-server/shared/config/config.properties"
   ]
  },
  {
   "cell_type": "code",
   "execution_count": 65,
   "metadata": {
    "scrolled": true
   },
   "outputs": [
    {
     "name": "stdout",
     "output_type": "stream",
     "text": [
      "pod \"model-conv-pod\" deleted\r\n"
     ]
    }
   ],
   "source": [
    "!kubectl delete -f ts.yaml -n kfserving-test"
   ]
  },
  {
   "cell_type": "code",
   "execution_count": 79,
   "metadata": {
    "scrolled": false
   },
   "outputs": [
    {
     "name": "stdout",
     "output_type": "stream",
     "text": [
      "apiVersion: serving.kubeflow.org/v1alpha2\r\n",
      "kind: InferenceService\r\n",
      "metadata:\r\n",
      "  labels:\r\n",
      "    controller-tools.k8s.io: \"1.0\"\r\n",
      "  name: ts-sample\r\n",
      "spec:\r\n",
      "  default:\r\n",
      "    predictor:\r\n",
      "      torchserve:\r\n",
      "        storageUri: \"pvc://model-pv-claim\"\r\n",
      "        # resources:\r\n",
      "        #   limits:\r\n",
      "        #     nvidia.com/gpu: 1"
     ]
    }
   ],
   "source": [
    "!cat torchserve-pv.yaml"
   ]
  },
  {
   "cell_type": "code",
   "execution_count": 97,
   "metadata": {
    "scrolled": true
   },
   "outputs": [
    {
     "name": "stdout",
     "output_type": "stream",
     "text": [
      "inferenceservice.serving.kubeflow.org/ts-sample created\r\n"
     ]
    }
   ],
   "source": [
    "!kubectl apply -f torchserve-pv.yaml -n kfserving-test "
   ]
  },
  {
   "cell_type": "code",
   "execution_count": 96,
   "metadata": {
    "scrolled": true
   },
   "outputs": [
    {
     "name": "stdout",
     "output_type": "stream",
     "text": [
      "inferenceservice.serving.kubeflow.org \"ts-sample\" deleted\r\n"
     ]
    }
   ],
   "source": [
    "!kubectl delete -f torchserve-pv.yaml -n kfserving-test"
   ]
  },
  {
   "cell_type": "code",
   "execution_count": null,
   "metadata": {},
   "outputs": [],
   "source": []
  }
 ],
 "metadata": {
  "kernelspec": {
   "display_name": "Python 3",
   "language": "python",
   "name": "python3"
  },
  "language_info": {
   "codemirror_mode": {
    "name": "ipython",
    "version": 3
   },
   "file_extension": ".py",
   "mimetype": "text/x-python",
   "name": "python",
   "nbconvert_exporter": "python",
   "pygments_lexer": "ipython3",
   "version": "3.5.2"
  }
 },
 "nbformat": 4,
 "nbformat_minor": 2
}
